{
 "cells": [
  {
   "cell_type": "markdown",
   "metadata": {},
   "source": [
    "# Lab Assignment 6\n",
    "###### Manjunath MGM || 2210110387"
   ]
  },
  {
   "cell_type": "markdown",
   "metadata": {},
   "source": [
    "1. Create a program that finds the average length of words in a sentence using an \n",
    "enumerator. \n",
    ">Input:  \n",
    "\n",
    "This is a sample sentence to calculate average word length. \n",
    ">Output: \n",
    "\n",
    "average word length: 5.0"
   ]
  },
  {
   "cell_type": "code",
   "execution_count": 2,
   "metadata": {},
   "outputs": [
    {
     "name": "stdout",
     "output_type": "stream",
     "text": [
      "Input Sentence is -  Hello World I am Manjunath MGM\n",
      "Average word length =  4.166666666666667\n"
     ]
    }
   ],
   "source": [
    "sentence = input(\"Enter a sentence\")\n",
    "words = sentence.split()\n",
    "total_length = 0\n",
    "word_count = 0\n",
    "\n",
    "print(\"Input Sentence is - \",sentence)\n",
    "\n",
    "for word in words:\n",
    "    total_length += len(word)\n",
    "    word_count += 1\n",
    "\n",
    "if word_count == 0:\n",
    "    average_length = 0\n",
    "else:\n",
    "    average_length = total_length / word_count\n",
    "\n",
    "print(\"Average word length = \", average_length)\n"
   ]
  },
  {
   "cell_type": "markdown",
   "metadata": {},
   "source": [
    "2. Given a paragraph as input, find the number of 3-length words in it.  \n",
    ">Input:  \n",
    "\n",
    "The invention of Braille was a major turning point in the history of disability.  \n",
    " \n",
    ">Output:  \n",
    "\n",
    "3  \n",
    " \n",
    ">Input:  \n",
    "\n",
    "Rivers  help  in  agriculture.  In  fact,  a  lot  of  farmers  depend  on  rivers  for  agricultural purposes. \n",
    ">Output:  \n",
    "\n",
    "2  "
   ]
  },
  {
   "cell_type": "code",
   "execution_count": 3,
   "metadata": {},
   "outputs": [
    {
     "name": "stdout",
     "output_type": "stream",
     "text": [
      "Input -  Rivers  help  in  agriculture.  In  fact,  a  lot  of  farmers  depend  on  rivers  for  agricultural purposes. \n",
      "Three letter words -  2\n"
     ]
    }
   ],
   "source": [
    "paragraph = input(\"Enter a paragraph\")\n",
    "words = paragraph.split()\n",
    "three_letter_words = 0\n",
    "\n",
    "print(\"Input - \",paragraph)\n",
    "\n",
    "for word in words:\n",
    "    if len(word) == 3:\n",
    "        three_letter_words += 1\n",
    "\n",
    "print(\"Three letter words - \",three_letter_words)"
   ]
  },
  {
   "cell_type": "markdown",
   "metadata": {},
   "source": [
    "3. A user has to enter data in a web-portal for taxation. He has to enter his name and \n",
    "PAN number. Write a program which will verify the entered data. The name must \n",
    "contain  only  alphabets  and  each  word  in  the  name  must  have  its  first  letters  as \n",
    "capital letters. The PAN number must contain alphanumeric values and must not \n",
    "contain any small letters.  \n",
    " \n",
    " \n",
    ">Input:  \n",
    "\n",
    "Rakesh Kumar Singh  \n",
    "PQWS123TR  \n",
    "\n",
    ">Output:  \n",
    "\n",
    "True  \n",
    "\n",
    ">Input:  \n",
    "\n",
    "Rakesh kumar Singh  \n",
    "PQWS123TR  \n",
    "\n",
    ">Input:  \n",
    "\n",
    "Rakesh Kumar Singh12  \n",
    "PQWS123TR\n",
    "\n",
    ">Output:  \n",
    "\n",
    "False"
   ]
  },
  {
   "cell_type": "code",
   "execution_count": 4,
   "metadata": {},
   "outputs": [
    {
     "name": "stdout",
     "output_type": "stream",
     "text": [
      "True\n"
     ]
    }
   ],
   "source": [
    "name = input(\"Enter your name: \")\n",
    "pan = input(\"Enter your PAN number: \")\n",
    "\n",
    "name_valid = name.isalpha() and all(word.istitle() for word in name.split())\n",
    "\n",
    "pan_valid = pan.isalnum() and pan.isupper()\n",
    "\n",
    "if name_valid and pan_valid:\n",
    "    print(True)\n",
    "else:\n",
    "    print(False)\n"
   ]
  },
  {
   "cell_type": "markdown",
   "metadata": {},
   "source": [
    "4. The students of Python class are asked to write a program to add 'ing' at the end \n",
    "of a given string (length should be at least 3). If the given string already ends with \n",
    "'ing'  then  add  'ly'  instead.  If  the  string  length  of  the  given  string  is  less  than  3, \n",
    "leave it unchanged. Can you help them to implement it?  \n",
    " \n",
    ">Input : \n",
    "\n",
    "Interesting  \n",
    "\n",
    ">Output  \n",
    "\n",
    "Interestingly  \n",
    "\n",
    ">Input: \n",
    "\n",
    "Interest  \n",
    "\n",
    ">Output  \n",
    "\n",
    "Interesting"
   ]
  },
  {
   "cell_type": "code",
   "execution_count": 5,
   "metadata": {},
   "outputs": [
    {
     "name": "stdout",
     "output_type": "stream",
     "text": [
      "Output: Interstingly\n"
     ]
    }
   ],
   "source": [
    "input_string = input(\"Enter a string\")\n",
    "\n",
    "if len(input_string) < 3:\n",
    "    result = input_string\n",
    "elif input_string.endswith(\"ing\"):\n",
    "    result = input_string + \"ly\"\n",
    "else:\n",
    "    result = input_string + \"ing\"\n",
    "\n",
    "print(\"Output:\", result)\n"
   ]
  },
  {
   "cell_type": "markdown",
   "metadata": {},
   "source": [
    "5. Once,  Ram  was  playing  a  game  with  his  brother.  He  asked  him  to  extract  all \n",
    "vowels present in a given sentence. Can you help his brother to do it by a Python \n",
    "program?  \n",
    " \n",
    ">Enter a sentence: Hello how are you? \n",
    "\n",
    ">Vowels extracted from the sentence: ['e', 'o', 'o', 'a', 'e', 'o', 'u'] "
   ]
  },
  {
   "cell_type": "code",
   "execution_count": 6,
   "metadata": {},
   "outputs": [
    {
     "name": "stdout",
     "output_type": "stream",
     "text": [
      "Sentence -  hELLO hOW aRE yOU ?\n",
      "Vowels extracted from the sentence: ['E', 'O', 'O', 'a', 'E', 'O', 'U']\n"
     ]
    }
   ],
   "source": [
    "sentence = input(\"Enter a sentence: \")\n",
    "\n",
    "print(\"Sentence - \",sentence)\n",
    "vowels = []  \n",
    "for char in sentence: \n",
    "    if char in 'aeiouAEIOU': \n",
    "        vowels.append(char) \n",
    "\n",
    "print(\"Vowels extracted from the sentence:\", vowels)"
   ]
  },
  {
   "cell_type": "markdown",
   "metadata": {},
   "source": [
    "6. Two  strings  are  given as  input.  Find  the maximum  length  substring common  to \n",
    "both the strings. Implement using python program.  \n",
    "\n",
    ">Input:  \n",
    "\n",
    "assumptions  \n",
    "preassumption  \n",
    "\n",
    ">Output:  \n",
    "\n",
    "assumption   \n",
    "\n",
    ">Input:  \n",
    "\n",
    "The mistake was intentional  \n",
    "they take wastage  \n",
    "\n",
    ">Output:  \n",
    "\n",
    "take was "
   ]
  },
  {
   "cell_type": "code",
   "execution_count": 8,
   "metadata": {},
   "outputs": [
    {
     "name": "stdout",
     "output_type": "stream",
     "text": [
      "String 1 -  Preassumtions\n",
      "String 2 -  assumtion\n",
      "Output: assumtion\n"
     ]
    }
   ],
   "source": [
    "string1 = input(\"Enter the first string \")\n",
    "string2 = input(\"Enter the second string \")\n",
    "\n",
    "print(\"String 1 - \",string1)\n",
    "print(\"String 2 - \",string2)\n",
    "\n",
    "m = len(string1)\n",
    "n = len(string2)\n",
    "\n",
    "table = [[0] * (n + 1) for _ in range(m + 1)]\n",
    "\n",
    "max_length = 0\n",
    "ending_index = 0\n",
    "\n",
    "for i in range(1, m + 1):\n",
    "    for j in range(1, n + 1):\n",
    "        if string1[i - 1] == string2[j - 1]:\n",
    "            table[i][j] = table[i - 1][j - 1] + 1\n",
    "            if table[i][j] > max_length:\n",
    "                max_length = table[i][j]\n",
    "                ending_index = i\n",
    "        else:\n",
    "            table[i][j] = 0\n",
    "\n",
    "if max_length == 0:\n",
    "    result = \"\"\n",
    "else:\n",
    "    result = string1[ending_index - max_length:ending_index]\n",
    "\n",
    "print(\"Output:\", result)\n"
   ]
  },
  {
   "cell_type": "markdown",
   "metadata": {},
   "source": [
    "7. Write  a  program  that  removes  duplicate  characters  from  a  string  using  an \n",
    "enumerator. \n",
    ">Input: \n",
    "\n",
    "programming \n",
    "\n",
    ">Output: \n",
    "\n",
    "String after removing duplicates: progamin "
   ]
  },
  {
   "cell_type": "code",
   "execution_count": 9,
   "metadata": {},
   "outputs": [
    {
     "name": "stdout",
     "output_type": "stream",
     "text": [
      "String -  programming\n",
      "String after removing duplicates: progamin\n"
     ]
    }
   ],
   "source": [
    "input_string = input(\"Enter a string \")\n",
    "print(\"String - \", input_string)\n",
    "unique_chars = set()\n",
    "result = \"\"\n",
    "\n",
    "for char in input_string:\n",
    "    if char not in unique_chars:\n",
    "        unique_chars.add(char)\n",
    "        result += char\n",
    "\n",
    "print(\"String after removing duplicates:\", result)"
   ]
  }
 ],
 "metadata": {
  "kernelspec": {
   "display_name": ".venv",
   "language": "python",
   "name": "python3"
  },
  "language_info": {
   "codemirror_mode": {
    "name": "ipython",
    "version": 3
   },
   "file_extension": ".py",
   "mimetype": "text/x-python",
   "name": "python",
   "nbconvert_exporter": "python",
   "pygments_lexer": "ipython3",
   "version": "3.12.1"
  }
 },
 "nbformat": 4,
 "nbformat_minor": 2
}
