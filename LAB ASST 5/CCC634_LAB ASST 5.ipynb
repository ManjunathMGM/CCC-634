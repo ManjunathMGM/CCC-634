{
 "cells": [
  {
   "cell_type": "markdown",
   "metadata": {},
   "source": [
    "# Lab Assignment 5\n",
    "###### Manjunath MGM || 2210110387"
   ]
  },
  {
   "cell_type": "markdown",
   "metadata": {},
   "source": [
    "1. A set consists of elements: 18, 6, 40, 1, 25, 3, 10, 5, 55.  Take an input from the user which is present in the given set and remove it from the set and then display the resultant set.  \n",
    "> Input: </br>\n",
    "\n",
    "Original set elements: {18, 6, 40, 1, 25, 3, 10, 5, 55} </br>\n",
    "Enter the value you want to remove from the given set: 10 </br>\n",
    "> Output: </br>\n",
    "\n",
    "{18, 6, 40, 1, 25, 3,  5, 55} </br>"
   ]
  },
  {
   "cell_type": "code",
   "execution_count": 3,
   "metadata": {},
   "outputs": [
    {
     "name": "stdout",
     "output_type": "stream",
     "text": [
      "Original set elements: {1, 3, 5, 6, 40, 10, 18, 55, 25}\n",
      "Element to be removed =  6\n",
      "Output: {1, 3, 5, 40, 10, 18, 55, 25}\n"
     ]
    }
   ],
   "source": [
    "original_set = {18, 6, 40, 1, 25, 3, 10, 5, 55}\n",
    "\n",
    "print(\"Original set elements:\", original_set)\n",
    "\n",
    "remove_value = int(input(\"Enter the value you want to remove \"))\n",
    "print(\"Element to be removed = \", remove_value)\n",
    "\n",
    "if remove_value in original_set:\n",
    "    original_set.remove(remove_value)\n",
    "    print(\"Output:\", original_set)\n",
    "else:\n",
    "    print(\"Value not found in the set.\")"
   ]
  },
  {
   "cell_type": "markdown",
   "metadata": {},
   "source": [
    "2. Create a dictionary and add key-value pairs in it. Take first input from user, the \n",
    "size of the dictionary and second input as key and third input as the value.  Using \n",
    "for loop iterate over each key-value pair and print the elements of dictionary \n",
    "found during iteration. \n",
    "\n",
    "> Input: </br>\n",
    "\n",
    "Enter dictionary size: 3 </br>\n",
    "Enter key: 1001 </br>\n",
    "Enter value: Rohit </br>\n",
    "Enter key: 1002 </br>\n",
    "Enter value: Ram </br>\n",
    "Enter key: 1003 </br>\n",
    "Enter value: Raghav </br>\n",
    "\n",
    "> Output: </br>\n",
    "\n",
    "1001 –> Rohit </br>\n",
    "1002 -> Ram </br>\n",
    "1003 -> Raghav</br>"
   ]
  },
  {
   "cell_type": "code",
   "execution_count": 4,
   "metadata": {},
   "outputs": [
    {
     "name": "stdout",
     "output_type": "stream",
     "text": [
      "Output:\n",
      "10 -> mgm\n",
      "11 -> rk\n",
      "19 -> vpv\n"
     ]
    }
   ],
   "source": [
    "dictionary_size = int(input(\"Enter dictionary size \"))\n",
    "my_dict = {}\n",
    "\n",
    "for i in range(dictionary_size):\n",
    "    key = input(\"Enter key \")\n",
    "    value = input(\"Enter value \")\n",
    "    my_dict[key] = value\n",
    "\n",
    "print(\"Output:\")\n",
    "for key, value in my_dict.items():\n",
    "    print(key, \"->\", value)"
   ]
  },
  {
   "cell_type": "markdown",
   "metadata": {},
   "source": [
    "3. Write a Python program calculate the product, multiplying all the numbers of a given tuple   \n",
    "> Input </br>\n",
    "\n",
    "Enter the numbers seperated by space:12 12 </br>\n",
    "> output </br>\n",
    "\n",
    "Original Tuple:('12', '12') </br>\n",
    "Product - multiplying all the numbers of the said tuple: 144 </br>\n",
    "\n",
    "> Input </br>\n",
    "\n",
    "Enter the numbers seperated by space:12 7 </br>\n",
    " \n",
    "> Output </br>\n",
    " \n",
    "Original Tuple:('12', '7') </br>\n",
    "Product - multiplying all the numbers of the said tuple: 84 </br>"
   ]
  },
  {
   "cell_type": "code",
   "execution_count": 8,
   "metadata": {},
   "outputs": [
    {
     "name": "stdout",
     "output_type": "stream",
     "text": [
      "Original Tuple: (1, 2, 3)\n",
      "Product - multiplying all the numbers of the said tuple: 6\n"
     ]
    }
   ],
   "source": [
    "numbers = input(\"Enter the numbers separated by space: \").split()\n",
    "\n",
    "\n",
    "numbers = [int(_) for _ in numbers]\n",
    "t_numbers = tuple(numbers)\n",
    "\n",
    "print(\"Original Tuple:\", t_numbers)\n",
    "\n",
    "product = 1\n",
    "for num in t_numbers:\n",
    "    product *= num\n",
    "\n",
    "print(\"Product - multiplying all the numbers of the said tuple:\", product)"
   ]
  },
  {
   "cell_type": "markdown",
   "metadata": {},
   "source": [
    "4. Create a program that finds the maximum value and its index in a list using an \n",
    "enumerator."
   ]
  },
  {
   "cell_type": "code",
   "execution_count": 9,
   "metadata": {},
   "outputs": [
    {
     "name": "stdout",
     "output_type": "stream",
     "text": [
      "Maximum value: 78\n",
      "Index of maximum value: 5\n"
     ]
    }
   ],
   "source": [
    "numbers = input(\"Enter the numbers separated by space: \").split()\n",
    "numbers = [int(_) for _ in numbers]\n",
    "max_value = numbers[0]\n",
    "max_index = 0\n",
    "\n",
    "for index, value in enumerate(numbers):\n",
    "    if value > max_value:\n",
    "        max_value = value\n",
    "        max_index = index\n",
    "\n",
    "print(\"Maximum value:\", max_value)\n",
    "print(\"Index of maximum value:\", max_index)"
   ]
  },
  {
   "cell_type": "markdown",
   "metadata": {},
   "source": [
    "5. Create a program that merges two dictionaries and displays the result. \n",
    ">Input: </br> \n",
    "\n",
    "Enter elements of dictionary 1 (format - key1:value1, key2:value2): \"a\":1, \"b\":2 </br>\n",
    "Enter elements of dictionary 2 (format - key1:value1, key2:value2): \"c\":3, \"d\":4 </br>\n",
    "\n",
    ">Output: </br>\n",
    "\n",
    "Merged Dictionary: {'\"a\"': 1, '\"b\"': 2, '\"c\"': 3, '\"d\"': 4}"
   ]
  },
  {
   "cell_type": "code",
   "execution_count": null,
   "metadata": {},
   "outputs": [],
   "source": [
    "dict1_input = input(\"Enter elements of dictionary 1 (format - key1:value1, key2:value2): \")\n",
    "dict2_input = input(\"Enter elements of dictionary 2 (format - key1:value1, key2:value2): \")\n",
    "dict1 = eval(\"{\" + dict1_input + \"}\")\n",
    "dict2 = eval(\"{\" + dict2_input + \"}\")\n",
    "merged_dict = {**dict1, **dict2}\n",
    "print(\"Merged Dictionary:\", merged_dict)"
   ]
  },
  {
   "cell_type": "markdown",
   "metadata": {},
   "source": [
    "6. Create  a  dictionary  where  the  key  hods  the  name  of  the  countries  and  value \n",
    "indicates the language most spoken in the corresponding country. Take first input \n",
    "as  the  no.  of  key  value  pairs  to  be  added  in  the  dictionary.  Write  a  program  to \n",
    "print  the  content  of  this  dictionary  in  such  a  way  that  the  key  is  sorted  in  the \n",
    "ascending order.  \n",
    "\n",
    "> Input:  </br>\n",
    "\n",
    "Enter no.of key-value pairs: 2 </br>\n",
    "Enter keys: France </br>\n",
    "Enter values: French </br>\n",
    "Enter keys: USA </br>\n",
    "Enter values: English</br> \n",
    "\n",
    ">Output: </br>\n",
    "\n",
    "France: French</br> \n",
    "Spain: Spanish</br>"
   ]
  },
  {
   "cell_type": "code",
   "execution_count": 2,
   "metadata": {},
   "outputs": [
    {
     "name": "stdout",
     "output_type": "stream",
     "text": [
      "Output:\n",
      "Frnace: French Toast\n",
      "USA: english bread\n"
     ]
    }
   ],
   "source": [
    "num_pairs = int(input(\"Enter no. of key-value pairs: \"))\n",
    "\n",
    "country_language_dict = {}\n",
    "\n",
    "for _ in range(num_pairs):\n",
    "    key = input(\"Enter key: \")\n",
    "    value = input(\"Enter value: \")\n",
    "    country_language_dict[key] = value\n",
    "\n",
    "sorted_dict = dict(sorted(country_language_dict.items()))\n",
    "\n",
    "print(\"Output:\")\n",
    "for key, value in sorted_dict.items():\n",
    "    print(f\"{key}: {value}\")\n"
   ]
  },
  {
   "cell_type": "markdown",
   "metadata": {},
   "source": [
    "7. Create three dictionaries. For all the three dictionaries, give first input as the size \n",
    "of  the  dictionary,  second  input  as  the  key  and  third  input  as  the  value.  Write  a \n",
    "program to concatenate the content of all these three dictionaries to create a fourth \n",
    "resultant dictionary. </br>\n",
    "\n",
    ">NOTE: Give distinct key values in all three dictionaries    </br>\n",
    "\n",
    ">Input:</br>\n",
    "\n",
    "Enter dictionary1 size: 2 </br>\n",
    "Enter key: 0 </br>\n",
    "Enter value: 1000 </br>\n",
    "Enter key: 1 </br>\n",
    "Enter value: 2000 </br>\n",
    "Enter dictionary2 size: 2 </br>\n",
    "Enter key: 2 </br>\n",
    "Enter value: 100 </br>\n",
    "Enter key: 3 </br>\n",
    "Enter value: 200 </br>\n",
    "Enter dictionary3 size: 3 </br>\n",
    "Enter key: 4 </br>\n",
    "Enter value: 100 </br>\n",
    "Enter key: 5 </br>\n",
    "Enter value: 200 </br>\n",
    "Enter key: 6 </br>\n",
    "Enter value: 200 </br>\n",
    ">Output: </br>\n",
    "\n",
    "{0:1000, 1:2000, 2:100, 3:200, 4:100, 5:200, 6: 200}</br>"
   ]
  },
  {
   "cell_type": "code",
   "execution_count": 4,
   "metadata": {},
   "outputs": [
    {
     "name": "stdout",
     "output_type": "stream",
     "text": [
      "Enter elements for dictionary1:\n",
      "Enter elements for dictionary2:\n",
      "Enter elements for dictionary3:\n",
      "Output:\n",
      "{1: 100, 2: 200, 3: 300, 9: 900, 8: 800, 7: 700, 6: 600, 5: 500, 1001: 0}\n"
     ]
    }
   ],
   "source": [
    "dict1_size = int(input(\"Enter dictionary1 size: \"))\n",
    "dict1 = {}\n",
    "print(\"Enter elements for dictionary1:\")\n",
    "for _ in range(dict1_size):\n",
    "    key = int(input(\"Enter key: \"))\n",
    "    value = int(input(\"Enter value: \"))\n",
    "    dict1[key] = value\n",
    "\n",
    "dict2_size = int(input(\"Enter dictionary2 size: \"))\n",
    "dict2 = {}\n",
    "print(\"Enter elements for dictionary2:\")\n",
    "for _ in range(dict2_size):\n",
    "    key = int(input(\"Enter key: \"))\n",
    "    value = int(input(\"Enter value: \"))\n",
    "    dict2[key] = value\n",
    "\n",
    "dict3_size = int(input(\"Enter dictionary3 size: \"))\n",
    "dict3 = {}\n",
    "print(\"Enter elements for dictionary3:\")\n",
    "for _ in range(dict3_size):\n",
    "    key = int(input(\"Enter key: \"))\n",
    "    value = int(input(\"Enter value: \"))\n",
    "    dict3[key] = value\n",
    "\n",
    "resultant_dict = {}\n",
    "resultant_dict.update(dict1)\n",
    "resultant_dict.update(dict2)\n",
    "resultant_dict.update(dict3)\n",
    "\n",
    "print(\"Output:\")\n",
    "print(resultant_dict)\n"
   ]
  },
  {
   "cell_type": "markdown",
   "metadata": {},
   "source": [
    "8. Take different subjects of the current semester studied by the student as an input \n",
    "in  a  tuple  (each  separated  by  comma).  We  have  to  find  the  number  of  subjects \n",
    "which has been input by the student. In addition, in case if there is any repeated \n",
    "entry, only error message “Error:The subjects entered are repeated” needs to be \n",
    "shown.  If the subjects are unique, Display the output pattern like what has shown \n",
    "in test cases.            </br>\n",
    "  \n",
    ">Input1:- </br>\n",
    "\n",
    "Enter comma-separated subjects: english,hindi,science,social science </br>\n",
    " \n",
    ">Output1:- </br>\n",
    "\n",
    "The  subjects  assigned  in  current  semester  are    ('english',  'hindi',  'science',  'social science') </br>\n",
    "The number of assigned subjects are 4 </br>\n",
    ">Input2:- </br>\n",
    "\n",
    "Enter comma-separated subjects: science,hindi,social,hindi </br>\n",
    " \n",
    ">Output2:- </br>\n",
    "\n",
    "Error:The subjects entered are repeated </br>\n",
    " \n",
    ">Input3:- </br>\n",
    "\n",
    "Enter comma-separated subjects: python,maths,coi,dbms </br>\n",
    " \n",
    ">Output3:- </br>\n",
    "\n",
    "The subjects assigned in current semester are:  ('python', 'maths', 'coi', 'dbms') </br>\n",
    "The number of assigned subjects are: 4</br>"
   ]
  },
  {
   "cell_type": "code",
   "execution_count": 5,
   "metadata": {},
   "outputs": [
    {
     "name": "stdout",
     "output_type": "stream",
     "text": [
      "The subjects assigned in current semester are: ('math', 'physics', 'dbms', 'os', 'python', 'c++', 'digital electronics')\n",
      "The number of assigned subjects are: 7\n"
     ]
    }
   ],
   "source": [
    "subjects_input = input(\"Enter comma-separated subjects: \")\n",
    "\n",
    "subjects = tuple(subject.strip() for subject in subjects_input.split(','))\n",
    "\n",
    "if len(subjects) != len(set(subjects)):\n",
    "    print(\"Error: The subjects entered are repeated\")\n",
    "else:\n",
    "    print(\"The subjects assigned in current semester are:\", subjects)\n",
    "    print(\"The number of assigned subjects are:\", len(subjects))\n"
   ]
  }
 ],
 "metadata": {
  "kernelspec": {
   "display_name": ".venv",
   "language": "python",
   "name": "python3"
  },
  "language_info": {
   "codemirror_mode": {
    "name": "ipython",
    "version": 3
   },
   "file_extension": ".py",
   "mimetype": "text/x-python",
   "name": "python",
   "nbconvert_exporter": "python",
   "pygments_lexer": "ipython3",
   "version": "3.12.1"
  }
 },
 "nbformat": 4,
 "nbformat_minor": 2
}
