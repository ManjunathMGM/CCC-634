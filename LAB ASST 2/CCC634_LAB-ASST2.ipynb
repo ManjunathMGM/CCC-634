{
 "cells": [
  {
   "cell_type": "markdown",
   "metadata": {},
   "source": [
    "# Lab Assignment 2\n",
    "###### Manjunath MGM || 2210110387"
   ]
  },
  {
   "cell_type": "markdown",
   "metadata": {},
   "source": [
    "1. There  are  two  friends;  “A” and “B”. They find some apples in a forest. Given the number of apples as input, type “yes” if they can be distributed equally among the two of them, else print “no”."
   ]
  },
  {
   "cell_type": "code",
   "execution_count": 3,
   "metadata": {},
   "outputs": [
    {
     "name": "stdout",
     "output_type": "stream",
     "text": [
      "No. of apples is 6\n",
      "yes\n"
     ]
    }
   ],
   "source": [
    "apples = int(input(\"Enter no. of apples - \"))\n",
    "print(\"No. of apples is\", apples)\n",
    "if apples % 2 == 0:\n",
    "    print(\"yes\")\n",
    "else:\n",
    "    print(\"no\")\n"
   ]
  },
  {
   "cell_type": "markdown",
   "metadata": {},
   "source": [
    "2. Given a parameter \"X\". Show the output as an area of a circle if the choice is the letter \"c\" or the area of the square if the choice is \"s\".\n",
    "   Round off to 2 decimal places."
   ]
  },
  {
   "cell_type": "code",
   "execution_count": 1,
   "metadata": {},
   "outputs": [
    {
     "name": "stdout",
     "output_type": "stream",
     "text": [
      "The number of X is 5\n",
      "Area of circle is 78.5\n"
     ]
    }
   ],
   "source": [
    "X = int(input(\"Enter X: \"))\n",
    "print(\"The number of X is\", X)\n",
    "\n",
    "choice = input(\"\"\"Enter your choice:\n",
    "               c for circle, s for square\"\"\").lower()\n",
    "if choice == \"c\":\n",
    "    print(\"Area of circle is\", round(3.14 * X * X, 2))\n",
    "elif choice == \"s\":\n",
    "    print(\"Area of square is\", round(X * X, 2))\n"
   ]
  },
  {
   "cell_type": "markdown",
   "metadata": {},
   "source": [
    "3. Write a program to take the sides of a triangle as input and determine whether it is an \n",
    "equilateral, isosceles or scalene triangle."
   ]
  },
  {
   "cell_type": "code",
   "execution_count": 7,
   "metadata": {},
   "outputs": [
    {
     "name": "stdout",
     "output_type": "stream",
     "text": [
      "Side A = 2, Side B = 2, Side C = 3\n",
      "Isosceles triangle\n"
     ]
    }
   ],
   "source": [
    "a = int(input(\"Enter side A: \"))\n",
    "b = int(input(\"Enter side B: \"))\n",
    "c = int(input(\"Enter side C: \"))\n",
    "\n",
    "print(f\"Side A = {a}, Side B = {b}, Side C = {c}\")\n",
    "if a == b == c:\n",
    "    print(\"Equilateral triangle\")\n",
    "elif a == b or b == c or c == a:\n",
    "    print(\"Isosceles triangle\")\n",
    "else:\n",
    "    print(\"Scalene triangle\")\n"
   ]
  },
  {
   "cell_type": "markdown",
   "metadata": {},
   "source": [
    "4. Write a python program  to determine the price of the gym membership with GST of \n",
    "5% on the net amount based on the following table\n",
    "\n",
    "| Month Range   | Charges (per month) |\n",
    "| -------- | ------- |\n",
    "| 1 - 2  | 2000/pm    |\n",
    "| 3 - 9 | 1500/pm     |\n",
    "| 10 - 12    | 1000/pm    |\n",
    "| > 12 | 800/pm|        "
   ]
  },
  {
   "cell_type": "code",
   "execution_count": 12,
   "metadata": {},
   "outputs": [
    {
     "name": "stdout",
     "output_type": "stream",
     "text": [
      "No. of months -  14\n",
      "The Final price of gym membership is  11760.0\n"
     ]
    }
   ],
   "source": [
    "mon = int(input(\"Enter the no. of months \"))\n",
    "\n",
    "if mon >= 1 and mon <= 2:\n",
    "    net = 2000 * mon\n",
    "elif mon >= 3 and mon <= 9:\n",
    "    net = 1500 * mon\n",
    "elif mon >= 10 and mon <= 12:\n",
    "    net = 1000 * mon\n",
    "else:\n",
    "    net = 800 * mon\n",
    "\n",
    "total = net + (net * 0.05) #gst included\n",
    "\n",
    "print(\"No. of months - \", mon)\n",
    "print(\"The Final price of gym membership is \", total)\n"
   ]
  },
  {
   "cell_type": "markdown",
   "metadata": {},
   "source": [
    "5. A man has purchased three eatable items like Pizza, Burger, and Pasta at the cost of \n",
    "Rs. X, Rs. Y, Rs. Z. He has paid the bill. He wants to check the largest and the lowest \n",
    "cost mathematically. Design a code to check the item with the largest price for him. "
   ]
  },
  {
   "cell_type": "code",
   "execution_count": 14,
   "metadata": {},
   "outputs": [
    {
     "name": "stdout",
     "output_type": "stream",
     "text": [
      "Price of pizza = 312.0, burger = 600.0, pasta = 1235.0\n",
      "Pasta has the largest price\n"
     ]
    }
   ],
   "source": [
    "x = float(input(\"Enter the cost of Pizza: \"))\n",
    "y = float(input(\"Enter the cost of Burger: \"))\n",
    "z = float(input(\"Enter the cost of Pasta: \"))\n",
    "\n",
    "print(f\"Price of pizza = {x}, burger = {y}, pasta = {z}\")\n",
    "\n",
    "if x >= y and x >= z:\n",
    "    print(\"Pizza has the largest price\")\n",
    "elif y >= X and y >= z:\n",
    "    print(\"Burger has the largest price\")\n",
    "else:\n",
    "    print(\"Pasta has the largest price\")\n"
   ]
  },
  {
   "cell_type": "markdown",
   "metadata": {},
   "source": [
    "6. Sam’s dog Binary hears frequencies starting from 45 Hertz to 45000 Hertz (both \n",
    "inclusive). If Sam’s commands have a frequency of XX Hertz, find whether Binary \n",
    "can hear them or not."
   ]
  },
  {
   "cell_type": "code",
   "execution_count": 16,
   "metadata": {},
   "outputs": [
    {
     "name": "stdout",
     "output_type": "stream",
     "text": [
      "Frequency = 23 Hz\n",
      "Binary can't hear the commands.\n"
     ]
    }
   ],
   "source": [
    "freq = int(input(\"Enter the frequency in Hz \"))\n",
    "\n",
    "print(f\"Frequency = {freq} Hz\")\n",
    "if freq >= 45 and freq <= 45000:\n",
    "    print(\"Binary can hear the commands.\")\n",
    "else:\n",
    "    print(\"Binary can't hear the commands.\")\n"
   ]
  },
  {
   "cell_type": "markdown",
   "metadata": {},
   "source": [
    "7. Read 2 integers and a basic operator character(for eg: ‘+’ for addition) from the user \n",
    "as input to perform all basic mathematical computations and print the result based on \n",
    "the user’s choice of the operator. </br>\n",
    "\\+ for addition </br>\n",
    "\\- for addition </br>\n",
    "\\* for addition </br>\n",
    "/ for division </br>"
   ]
  },
  {
   "cell_type": "code",
   "execution_count": 17,
   "metadata": {},
   "outputs": [
    {
     "name": "stdout",
     "output_type": "stream",
     "text": [
      "1st Number =  5\n",
      "2nd Number =  9\n",
      "operator  *\n",
      "Result =  14\n"
     ]
    }
   ],
   "source": [
    "num1 = int(input(\"Enter the 1st no. \"))\n",
    "num2 = int(input(\"Enter the 2nd no. \"))\n",
    "operator = input(\"Enter the operator (+, -, *, /) \")\n",
    "\n",
    "if operator == \"+\":\n",
    "    result = num1 + num2\n",
    "elif operator == \"-\":\n",
    "    result = num1 + num2\n",
    "elif operator == \"*\":\n",
    "    result = num1 + num2\n",
    "elif operator == \"/\":\n",
    "    result = num1 / num2\n",
    "else:\n",
    "    print(\"Invalid operator\")\n",
    "\n",
    "print(\"1st Number = \", num1)\n",
    "print(\"2nd Number = \", num2)\n",
    "print(\"operator \", operator)\n",
    "print(\"Result = \", result)"
   ]
  },
  {
   "cell_type": "markdown",
   "metadata": {},
   "source": [
    "8. Take a character as input from the user and determine whether the input character is in \n",
    "Uppercase, Lowercase, or is it a special character or a digit. <br>\n",
    "(use ord()) "
   ]
  },
  {
   "cell_type": "code",
   "execution_count": 27,
   "metadata": {},
   "outputs": [
    {
     "name": "stdout",
     "output_type": "stream",
     "text": [
      "The character '$' is a Special Character.\n"
     ]
    }
   ],
   "source": [
    "mychar = input(\"Enter a character: \")\n",
    "\n",
    "char_code = ord(mychar)\n",
    "\n",
    "if 65 <= char_code <= 90:\n",
    "    print(f\"The character '{mychar}' is Uppercase.\")\n",
    "elif 97 <= char_code <= 122:\n",
    "    print(f\"The character '{mychar}' is Lowercase.\")\n",
    "elif 48 <= char_code <= 57:\n",
    "    print(f\"The character '{mychar}' is a Digit.\")\n",
    "else:\n",
    "    print(f\"The character '{mychar}' is a Special Character.\")\n"
   ]
  },
  {
   "cell_type": "markdown",
   "metadata": {},
   "source": [
    "9. Given y as a function of x where, <br>\n",
    " \n",
    "$y=ax^2-bx+c(x>k),$ <br>\n",
    "$y=0 (x=k),$ <br>\n",
    "$y=ax^2+bx+c(x<k)$ <br> \n",
    " \n",
    "Write a program to read all the values and return the final answer of y order of inputs (a, b, c, x, k)"
   ]
  },
  {
   "cell_type": "code",
   "execution_count": 18,
   "metadata": {},
   "outputs": [
    {
     "name": "stdout",
     "output_type": "stream",
     "text": [
      "Value of a =  1.0\n",
      "Value of b =  2.0\n",
      "Value of c =  3.0\n",
      "Value of x =  4.0\n",
      "Value of k =  5.0\n",
      "The value of y for given values is  27.0\n"
     ]
    }
   ],
   "source": [
    "a = float(input(\"Enter value of a \"))\n",
    "b = float(input(\"Enter value of b \"))\n",
    "c = float(input(\"Enter value of c \"))\n",
    "x = float(input(\"Enter value of x \"))\n",
    "k = float(input(\"Enter value of k \"))\n",
    "\n",
    "print(\"Value of a = \",a)\n",
    "print(\"Value of b = \",b)\n",
    "print(\"Value of c = \",c)\n",
    "print(\"Value of x = \",x)\n",
    "print(\"Value of k = \",k)\n",
    "\n",
    "if x > k:\n",
    "    y = a * x**2 - b * x + c\n",
    "elif x == k:\n",
    "    y = 0\n",
    "else:\n",
    "    y = a * x**2 + b * x + c\n",
    "\n",
    "print(\"The value of y for given values is \", y)\n"
   ]
  },
  {
   "cell_type": "markdown",
   "metadata": {},
   "source": [
    "10. You are creating a program to simulate a simple game where the user has to guess a \n",
    "random number. Implement a program that generates a random number between 1 and \n",
    "100 and lets the user guess until they get it right. Provide feedback if the guess is too \n",
    "high or too low. <br>\n",
    "Hint: import random <br>\n",
    "Generate random number between 1 to 100 (random.randint(1, 100))"
   ]
  },
  {
   "cell_type": "code",
   "execution_count": 19,
   "metadata": {},
   "outputs": [
    {
     "name": "stdout",
     "output_type": "stream",
     "text": [
      "Too low. Try again.\n",
      "Too low. Try again.\n",
      "Too low. Try again.\n",
      "Too high. Try again.\n",
      "Congratulations! You guessed the correct number in 5 guesses.\n"
     ]
    }
   ],
   "source": [
    "import random\n",
    "\n",
    "random_num = random.randint(1, 100)\n",
    "\n",
    "num_guesses = 0\n",
    "\n",
    "while True:\n",
    "    guess = int(input(\"Guess a number between 1 and 100: \"))\n",
    "    num_guesses += 1\n",
    "    if guess == random_num:\n",
    "        print(\"Congratulations! You guessed the correct number in\", num_guesses, \"guesses.\")\n",
    "        break\n",
    "    elif guess < random_num:\n",
    "        print(\"Too low. Try again.\")\n",
    "    else:\n",
    "        print(\"Too high. Try again.\")"
   ]
  },
  {
   "cell_type": "markdown",
   "metadata": {},
   "source": [
    "11. A person goes to the US Embassy to apply for a tourist visa. The embassy \n",
    "management grants a visa if it fulfils the following three conditions: <br>\n",
    "He has negative RT-PCR report. Or \n",
    "He is fully vaccinated. and \n",
    "His duration of tour is greater than 1 and not more than 15 days."
   ]
  },
  {
   "cell_type": "code",
   "execution_count": 21,
   "metadata": {},
   "outputs": [
    {
     "name": "stdout",
     "output_type": "stream",
     "text": [
      "Congratulations, you're eligible for a tourist visa.\n"
     ]
    }
   ],
   "source": [
    "rt_pcr = input(\"Do you have a negative RT-PCR report? (yes/no): \").lower()\n",
    "vaccinate = input(\"Are you fully vaccinated? (yes/no): \").lower()\n",
    "tour = int(input(\"Enter the no. of days of your tour \"))\n",
    "\n",
    "if (rt_pcr == \"yes\" or vaccinate == \"yes\") and (tour > 1 and tour <= 15):\n",
    "    print(\"Congratulations, you're eligible for a tourist visa.\")\n",
    "else:\n",
    "    print(\"Sorry, you're not eligible for a tourist visa.\")\n"
   ]
  }
 ],
 "metadata": {
  "kernelspec": {
   "display_name": ".venv",
   "language": "python",
   "name": "python3"
  },
  "language_info": {
   "codemirror_mode": {
    "name": "ipython",
    "version": 3
   },
   "file_extension": ".py",
   "mimetype": "text/x-python",
   "name": "python",
   "nbconvert_exporter": "python",
   "pygments_lexer": "ipython3",
   "version": "3.12.1"
  }
 },
 "nbformat": 4,
 "nbformat_minor": 2
}
