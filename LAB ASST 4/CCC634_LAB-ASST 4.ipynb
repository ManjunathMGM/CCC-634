{
 "cells": [
  {
   "cell_type": "markdown",
   "metadata": {},
   "source": [
    "# Lab Assignment 4\n",
    "###### Manjunath MGM || 2210110387"
   ]
  },
  {
   "cell_type": "markdown",
   "metadata": {},
   "source": [
    "1. Create a list by taking input from the user. First input is the no. of element you want \n",
    "to add in the list and second input is the element. Create a new list which is reverse of \n",
    "the existing list. First output should be existing list and second output should be \n",
    "resultant list. "
   ]
  },
  {
   "cell_type": "code",
   "execution_count": 12,
   "metadata": {},
   "outputs": [
    {
     "name": "stdout",
     "output_type": "stream",
     "text": [
      "Existing list: ['23', '14', '16', '28', '34']\n",
      "Reversed list: ['34', '28', '16', '14', '23']\n"
     ]
    }
   ],
   "source": [
    "\n",
    "num_elmnt = int(input(\"No. of elements in the list ?\"))\n",
    "\n",
    "elmnt = []\n",
    "for _ in range(num_elmnt):\n",
    "    element = input(f\"Enter element {_ + 1}\")\n",
    "    elmnt.append(element)\n",
    "\n",
    "reverse_list = []\n",
    "for i in range(num_elmnt - 1, -1, -1):\n",
    "    reverse_list.append(elmnt[i])\n",
    "\n",
    "print(\"Existing list:\", elmnt)\n",
    "print(\"Reversed list:\", reverse_list)\n",
    "\n"
   ]
  },
  {
   "cell_type": "markdown",
   "metadata": {},
   "source": [
    "2. Create a list which consists of only integer values by taking input from the user. Take \n",
    "first input as the number of elements you want to add in the list and second input as the \n",
    "elements in the list. Write a program to create a new list where each element value is \n",
    "the square of elements of the existing list. "
   ]
  },
  {
   "cell_type": "code",
   "execution_count": 13,
   "metadata": {},
   "outputs": [
    {
     "name": "stdout",
     "output_type": "stream",
     "text": [
      "Existing list: [2, 8, 6, 4, 3]\n",
      "Squared list: [4, 64, 36, 16, 9]\n"
     ]
    }
   ],
   "source": [
    "num_elmnt = int(input(\"No. of elements in the list ?\"))\n",
    "\n",
    "elmnt = []\n",
    "for _ in range(num_elmnt):\n",
    "    element = int(input(f\"Enter element {_ + 1}\"))\n",
    "    elmnt.append(element)\n",
    "\n",
    "\n",
    "squared_list = [x ** 2 for x in elmnt]\n",
    "\n",
    "print(\"Existing list:\", elmnt)\n",
    "print(\"Squared list:\", squared_list)"
   ]
  },
  {
   "cell_type": "markdown",
   "metadata": {},
   "source": [
    "3. Create a list by taking input from the user. Take the first input as the number of elements \n",
    "to be added in the list, second input as the elements in the list and the third input as an \n",
    "element to be searched in the list. Search the first occurrence of an element named elem \n",
    "in the list. When found print the index position where it is found and replace elem with \n",
    "the result of the addition of the value 1000. If the element is not found in the list then \n",
    "print the message \"The element you are searching for is not in the list”. "
   ]
  },
  {
   "cell_type": "code",
   "execution_count": 15,
   "metadata": {},
   "outputs": [
    {
     "name": "stdout",
     "output_type": "stream",
     "text": [
      "Element found at index -  3\n",
      "Modified list: ['2', '3', '4', 1008, '5']\n"
     ]
    }
   ],
   "source": [
    "num_elements = int(input(\"No. of elements in the list ?\"))\n",
    "\n",
    "elements = []\n",
    "for _ in range(num_elements):\n",
    "    element = input(f\"Enter element {_ + 1}\")\n",
    "    elements.append(element)\n",
    "\n",
    "elem_to_search = input(\"Enter element to search \")\n",
    "\n",
    "found = False\n",
    "for i in range(len(elements)):\n",
    "    if elements[i] == elem_to_search:\n",
    "        print(\"Element found at index - \", i)\n",
    "        elements[i] = int(elem_to_search) + 1000\n",
    "        found = True\n",
    "        break\n",
    "\n",
    "if not found:\n",
    "    print(\"The element you are searching for is not in the list\")\n",
    "\n",
    "print(\"Modified list:\", elements)"
   ]
  },
  {
   "cell_type": "markdown",
   "metadata": {},
   "source": [
    "4. Create a list by entering the items separated by space. (only integer values). Write a \n",
    "program to find if the contents are palindrome. If while reading the element values in \n",
    "the list, it is found that front to end and end to front, the elements are read as same, then \n",
    "print: Yes, otherwise print not palindrome."
   ]
  },
  {
   "cell_type": "code",
   "execution_count": 8,
   "metadata": {},
   "outputs": [
    {
     "name": "stdout",
     "output_type": "stream",
     "text": [
      "List -  5 8 9\n",
      "[5, 8, 9]\n"
     ]
    }
   ],
   "source": [
    "input_string = input(\"Enter values separated by space: \")\n",
    "print(\"List - \", input_string)\n",
    "elements = input_string.split()\n",
    "elements = [int(element) for element in elements]\n",
    "\n",
    "is_palindrome = True\n",
    "for i in range(len(elements) // 2):\n",
    "    if elements[i] != elements[len(elements) - 1 - i]:\n",
    "        is_palindrome = False\n",
    "        break\n",
    "\n",
    "if is_palindrome:\n",
    "    print(\"Yes, the list is a palindrome.\")\n",
    "else:\n",
    "    print(\"No, the list is not a palindrome.\")"
   ]
  },
  {
   "cell_type": "markdown",
   "metadata": {},
   "source": [
    "5. Create a list by taking input from the user and which consists of only integer values.. \n",
    "First input is the size of the list and second input is the elements in the list. Print the \n",
    "product of the list as output."
   ]
  },
  {
   "cell_type": "code",
   "execution_count": 5,
   "metadata": {},
   "outputs": [
    {
     "name": "stdout",
     "output_type": "stream",
     "text": [
      "Size of the list -  5\n",
      "List -  [1, 2, 3, 4, 5]\n",
      "Product of the list: 120\n"
     ]
    }
   ],
   "source": [
    "size = int(input(\"Size of list \"))\n",
    "\n",
    "elements = []\n",
    "for _ in range(size):\n",
    "    element = int(input(f\"Enter element {_ + 1}\"))\n",
    "    elements.append(element)\n",
    "\n",
    "print(\"Size of the list - \",size)\n",
    "print(\"List - \", elements)\n",
    "product = 1\n",
    "for num in elements:\n",
    "    product *= num\n",
    "print(\"Product of the list:\", product)"
   ]
  },
  {
   "cell_type": "markdown",
   "metadata": {},
   "source": [
    "6. You have given a list of students of a batch. You have to check whether the student is \n",
    "part of the batch or not. Write a Python program to check whether a student is in a batch \n",
    "or not. </br>\n",
    " \n",
    "Format Input: </br>  \n",
    "Student list: ram shyam  </br>\n",
    "Name of student: ram </br>"
   ]
  },
  {
   "cell_type": "code",
   "execution_count": 2,
   "metadata": {},
   "outputs": [
    {
     "name": "stdout",
     "output_type": "stream",
     "text": [
      "List of students - ['shyam', 'ram', 'raju']\n",
      "Input name - raj\n",
      "raj is not in the batch.\n"
     ]
    }
   ],
   "source": [
    "student_list = (input(\"Student list: \").lower()).split()\n",
    "\n",
    "student_name = input(\"Name of student: \")\n",
    "\n",
    "print(\"List of students -\", student_list)\n",
    "print(\"Input name -\", student_name)\n",
    "\n",
    "if student_name in student_list:\n",
    "    print(f\"{student_name} is in the batch.\")\n",
    "else:\n",
    "    print(f\"{student_name} is not in the batch.\")"
   ]
  },
  {
   "cell_type": "markdown",
   "metadata": {},
   "source": [
    "7. Create a list named ‘list1’ by taking input from the user. The list consists of only integer \n",
    "values. A mapping function $F(x)=x3+2x-5$ is applied on list1, and the output is saved in \n",
    "list2. Create list2 where the mapped value is saved. Display list1 and list2."
   ]
  },
  {
   "cell_type": "code",
   "execution_count": 3,
   "metadata": {},
   "outputs": [
    {
     "name": "stdout",
     "output_type": "stream",
     "text": [
      "list1: [2, 3, 4, 5, 6, 7]\n",
      "list2 (after applying mapping function): [7, 28, 67, 130, 223, 352]\n"
     ]
    }
   ],
   "source": [
    "list1_input = input(\"Enter integer values separated by space for list1: \")\n",
    "\n",
    "list1_elements = list1_input.split()\n",
    "\n",
    "list1 = [int(element) for element in list1_elements]\n",
    "\n",
    "list2 = [(x**3 + 2*x - 5) for x in list1]\n",
    "\n",
    "print(\"list1:\", list1)\n",
    "print(\"list2 (after applying mapping function):\", list2)\n"
   ]
  },
  {
   "cell_type": "markdown",
   "metadata": {},
   "source": [
    "8. Alice and Bob are meeting after a long time. As usual they love to play some math \n",
    "games. This times Alice takes the call and decides the game. The game is very simple, \n",
    "Alice says out an integer and Bob has to say whether the number is prime or not. Help \n",
    "Bob accomplish this task by writing a python program which will calculate whether the \n",
    "number is prime or not."
   ]
  },
  {
   "cell_type": "code",
   "execution_count": 5,
   "metadata": {},
   "outputs": [
    {
     "name": "stdout",
     "output_type": "stream",
     "text": [
      "Input Number 6\n",
      "6 is not a prime number.\n"
     ]
    }
   ],
   "source": [
    "number = int(input(\"Enter an integer: \"))\n",
    "\n",
    "print(\"Input Number\",number)\n",
    "if number > 1:\n",
    "    for i in range(2, int(number**0.5) + 1):\n",
    "        if (number % i) == 0:\n",
    "            print(f\"{number} is not a prime number.\")\n",
    "            break\n",
    "    else:\n",
    "        print(f\"{number} is a prime number.\")\n",
    "else:\n",
    "    print(f\"{number} is not a prime number.\")"
   ]
  },
  {
   "cell_type": "markdown",
   "metadata": {},
   "source": [
    "9. You are given 10 numbers. Write a program to input integers in numbers list and create \n",
    "two lists \"Positive\" and \"Negative\" where \"Positive\" contains only the positive numbers \n",
    "and \"Negative\" contains only the negative numbers."
   ]
  },
  {
   "cell_type": "code",
   "execution_count": 8,
   "metadata": {},
   "outputs": [
    {
     "name": "stdout",
     "output_type": "stream",
     "text": [
      "List of numbers -  [5, 6, 4, 3, 2, -7, -5, -4, -7, -8]\n",
      "Positive numbers: [5, 6, 4, 3, 2]\n",
      "Negative numbers: [-7, -5, -4, -7, -8]\n"
     ]
    }
   ],
   "source": [
    "numbers = []\n",
    "positive = []\n",
    "negative = []\n",
    "\n",
    "for _ in range(10):\n",
    "    num = int(input(f\"Enter number {_ + 1}\"))\n",
    "    numbers.append(num)\n",
    "\n",
    "print(\"List of numbers - \",numbers)\n",
    "\n",
    "for num in numbers:\n",
    "    if num >= 0:\n",
    "        positive.append(num)\n",
    "    else:\n",
    "        negative.append(num)\n",
    "\n",
    "print(\"Positive numbers:\", positive)\n",
    "print(\"Negative numbers:\", negative)\n"
   ]
  },
  {
   "cell_type": "markdown",
   "metadata": {},
   "source": [
    "10. Create a list by taking input from the user and which consists of only integer values. \n",
    "First input is the number of elements, second is elements and third input is integer value \n",
    "named power. Suppose the list created by us, has elements like elem1, elem2 ... and so \n",
    "on.  Create  a  resultant  list  where  each  element  value  is  modified  as  following: \n",
    "[ elem1^power , elem2^power , elem3^power,....]"
   ]
  },
  {
   "cell_type": "code",
   "execution_count": 12,
   "metadata": {},
   "outputs": [
    {
     "name": "stdout",
     "output_type": "stream",
     "text": [
      "Enter the elements of the list (separated by space):\n",
      "[1, 2, 3, 4, 5]\n",
      "Power -  2\n",
      "Resultant list after applying power: [1, 4, 9, 16, 25]\n"
     ]
    }
   ],
   "source": [
    "num_elements = int(input(\"Enter the number of elements in the list: \"))\n",
    "\n",
    "print(\"Enter the elements of the list (separated by space):\")\n",
    "elements = list(map(int, input().split()))\n",
    "print(elements)\n",
    "\n",
    "power = int(input(\"Enter the integer power value: \"))\n",
    "\n",
    "print(\"Power - \",power)\n",
    "resultant_list = [element ** power for element in elements]\n",
    "\n",
    "print(\"Resultant list after applying power:\", resultant_list)"
   ]
  },
  {
   "cell_type": "markdown",
   "metadata": {},
   "source": [
    "11. You are building an online shopping cart. Implement a program that checks if a product \n",
    "is in the cart using a list. \n",
    " "
   ]
  },
  {
   "cell_type": "code",
   "execution_count": 13,
   "metadata": {},
   "outputs": [
    {
     "name": "stdout",
     "output_type": "stream",
     "text": [
      "The product 'onion' is not in the cart.\n"
     ]
    }
   ],
   "source": [
    "shopping_cart = []\n",
    "\n",
    "shopping_cart.extend([\"apple\", \"banana\", \"orange\", \"grapes\", \"mango\"])\n",
    "\n",
    "product_to_search = input(\"Enter the product you want to search in the cart: \")\n",
    "\n",
    "if product_to_search in shopping_cart:\n",
    "    print(f\"The product '{product_to_search}' is in the cart.\")\n",
    "else:\n",
    "    print(f\"The product '{product_to_search}' is not in the cart.\")\n"
   ]
  }
 ],
 "metadata": {
  "kernelspec": {
   "display_name": ".venv",
   "language": "python",
   "name": "python3"
  },
  "language_info": {
   "codemirror_mode": {
    "name": "ipython",
    "version": 3
   },
   "file_extension": ".py",
   "mimetype": "text/x-python",
   "name": "python",
   "nbconvert_exporter": "python",
   "pygments_lexer": "ipython3",
   "version": "3.12.1"
  }
 },
 "nbformat": 4,
 "nbformat_minor": 2
}
