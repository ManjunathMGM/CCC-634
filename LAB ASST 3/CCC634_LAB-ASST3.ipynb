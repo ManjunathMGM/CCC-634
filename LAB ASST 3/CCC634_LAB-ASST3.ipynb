{
 "cells": [
  {
   "cell_type": "markdown",
   "metadata": {},
   "source": [
    "# Lab Assignment 3\n",
    "###### Manjunath MGM || 2210110387"
   ]
  },
  {
   "cell_type": "markdown",
   "metadata": {},
   "source": [
    "1. A professor writes every number with a secret code on a board (where he is multiplying every digit of the number) as given below in the sample patterns. He wants to automate the process using Python. Can you help him? \n",
    "Sample pattern: <br>\n",
    " \n",
    "235 = 30 <br>\n",
    "150 = 0 <br>\n",
    "151 = 5 <br>"
   ]
  },
  {
   "cell_type": "code",
   "execution_count": 4,
   "metadata": {},
   "outputs": [
    {
     "name": "stdout",
     "output_type": "stream",
     "text": [
      "Given No. =  12345\n",
      "Secret code =  120\n"
     ]
    }
   ],
   "source": [
    "num = int(input(\"Enter a number \"))\n",
    "print(\"Given No. = \", num)\n",
    "\n",
    "prod = 1\n",
    "while num > 0:\n",
    "  digit = num % 10\n",
    "  prod *= digit\n",
    "  num //= 10\n",
    "\n",
    "print(\"Secret code = \", prod)\n"
   ]
  },
  {
   "cell_type": "markdown",
   "metadata": {},
   "source": [
    "2. Soham is playing a game of numbers where Soham is counting till an input number less than 98. Each time when Soham encounters a multiple of five, he just passes (keep mum) instead of a number. Write a program for implementing the same. \n",
    "\n",
    "> Sample Input:  <br>\n",
    "\n",
    "12 #A number less than 100 <br>\n",
    "> Sample Output: <br>\n",
    "\n",
    "1 <br>\n",
    "2 <br>\n",
    "3 <br>\n",
    "4 <br>\n",
    "6 <br>\n",
    "7 <br>\n",
    "8 <br>\n",
    "9 <br>\n",
    "11 <br>\n",
    "12 <br>\n",
    " \n",
    "> Sample Input:  <br>\n",
    "\n",
    "\n",
    "101 \n",
    "> Sample Output: <br>\n",
    "\n",
    "\n",
    "Invalid input"
   ]
  },
  {
   "cell_type": "code",
   "execution_count": 13,
   "metadata": {},
   "outputs": [
    {
     "name": "stdout",
     "output_type": "stream",
     "text": [
      "1\n",
      "2\n",
      "3\n",
      "4\n",
      "6\n",
      "7\n",
      "8\n",
      "9\n",
      "11\n",
      "12\n",
      "13\n",
      "14\n",
      "16\n",
      "17\n",
      "18\n",
      "19\n",
      "21\n",
      "22\n",
      "23\n",
      "24\n",
      "26\n",
      "27\n",
      "28\n",
      "29\n",
      "31\n",
      "32\n",
      "33\n",
      "34\n",
      "36\n",
      "37\n",
      "38\n",
      "39\n",
      "41\n",
      "42\n",
      "43\n",
      "44\n",
      "46\n",
      "47\n",
      "48\n",
      "49\n",
      "51\n",
      "52\n"
     ]
    }
   ],
   "source": [
    "inp = int(input(\"Enter a no. less than 98: \"))\n",
    "\n",
    "if inp >= 98:\n",
    "  print(\"Invalid input\")\n",
    "else:\n",
    "  for num in range(1, inp + 1):\n",
    "    if num % 5 != 0:\n",
    "      print(num)"
   ]
  },
  {
   "cell_type": "markdown",
   "metadata": {},
   "source": [
    "3. Richa is earning 55rs per month. Her salary gets double in second month and triple in third month and so on. Write a python program to print her salary for coming n months individually using while loop."
   ]
  },
  {
   "cell_type": "code",
   "execution_count": 10,
   "metadata": {},
   "outputs": [
    {
     "name": "stdout",
     "output_type": "stream",
     "text": [
      "Month 1 - ₹55\n",
      "Month 2 - ₹110\n",
      "Month 3 - ₹330\n",
      "Month 4 - ₹1320\n",
      "Month 5 - ₹6600\n"
     ]
    }
   ],
   "source": [
    "n = int(input(\"Enter no. of Months \"))\n",
    "salary = 55\n",
    "month = 1\n",
    "while month <= n:\n",
    "    print(f\"Month {month} - ₹{salary}\")\n",
    "    salary *= month + 1\n",
    "    month += 1\n"
   ]
  },
  {
   "cell_type": "markdown",
   "metadata": {},
   "source": [
    "4. A number is said to be a magic number, if the sum of its digits is calculated till a single digit recursively by adding the sum of the digits after every addition. If the single digit comes out to be 1, then the number is a magic number. \n",
    "> *For example -*  \n",
    "Number = 50113  \n",
    "=> 5+0+1+1+3=10  \n",
    "=> 1+0=1  \n",
    "This is a Magic Number  \n",
    " \n",
    "Write a program to check whether given number is magic or not? "
   ]
  },
  {
   "cell_type": "code",
   "execution_count": 12,
   "metadata": {},
   "outputs": [
    {
     "name": "stdout",
     "output_type": "stream",
     "text": [
      "Given no. =  10000\n",
      "This is a Magic Number\n"
     ]
    }
   ],
   "source": [
    "num = int(input(\"Enter no. \"))\n",
    "\n",
    "print(\"Given no. = \",num)\n",
    "while num > 9:\n",
    "    temp = 0\n",
    "    while num > 0:\n",
    "        temp += num % 10 \n",
    "        num //= 10 \n",
    "    num = temp\n",
    "\n",
    "if num == 1:\n",
    "    print(\"This is a Magic Number\")\n",
    "else:\n",
    "    print(\"This is not a Magic number\")\n"
   ]
  }
 ],
 "metadata": {
  "kernelspec": {
   "display_name": ".venv",
   "language": "python",
   "name": "python3"
  },
  "language_info": {
   "codemirror_mode": {
    "name": "ipython",
    "version": 3
   },
   "file_extension": ".py",
   "mimetype": "text/x-python",
   "name": "python",
   "nbconvert_exporter": "python",
   "pygments_lexer": "ipython3",
   "version": "3.12.1"
  }
 },
 "nbformat": 4,
 "nbformat_minor": 2
}
